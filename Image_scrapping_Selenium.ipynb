{
 "cells": [
  {
   "cell_type": "markdown",
   "metadata": {},
   "source": [
    "**Image scrapping using Selenium from Amazon.in**"
   ]
  },
  {
   "cell_type": "code",
   "execution_count": 8,
   "metadata": {},
   "outputs": [],
   "source": [
    "from selenium import webdriver\n",
    "import os\n",
    "from selenium.webdriver import Chrome\n",
    "import pandas as pd\n",
    "import shutil\n",
    "import requests"
   ]
  },
  {
   "cell_type": "code",
   "execution_count": 4,
   "metadata": {},
   "outputs": [],
   "source": [
    "webdriver = \"C:/chromedriver.exe\"\n",
    "driver = Chrome(webdriver)\n",
    "url=driver.get('https://www.amazon.in/s?k=men%27s+shirt&ref=nb_sb_noss')"
   ]
  },
  {
   "cell_type": "code",
   "execution_count": 5,
   "metadata": {},
   "outputs": [],
   "source": [
    "#Making the directory to store images\n",
    "def make_directory(dirname):\n",
    "    current_path = os.getcwd()\n",
    "    path= os.path.join(current_path, dirname)\n",
    "    if not os.path.exists(path):\n",
    "        os.makedirs(path)\n",
    "        \n",
    "make_directory('Shirts')"
   ]
  },
  {
   "cell_type": "code",
   "execution_count": 6,
   "metadata": {},
   "outputs": [
    {
     "name": "stdout",
     "output_type": "stream",
     "text": [
      "[<selenium.webdriver.remote.webelement.WebElement (session=\"b5f3043b851166d4ce5c92097ff279dc\", element=\"30feebe2-cb0b-448f-8ec0-bb2e3e7de7d4\")>, <selenium.webdriver.remote.webelement.WebElement (session=\"b5f3043b851166d4ce5c92097ff279dc\", element=\"bcdb1c47-0bbd-43a3-bc9a-df2a1aa5abc1\")>, <selenium.webdriver.remote.webelement.WebElement (session=\"b5f3043b851166d4ce5c92097ff279dc\", element=\"94543315-35fa-4bda-b2c5-950dea53c7e0\")>, <selenium.webdriver.remote.webelement.WebElement (session=\"b5f3043b851166d4ce5c92097ff279dc\", element=\"d5ddc66e-605e-447f-a6a2-da0d5f6e01c8\")>, <selenium.webdriver.remote.webelement.WebElement (session=\"b5f3043b851166d4ce5c92097ff279dc\", element=\"34871f88-d16a-483a-baf4-83808806c60d\")>, <selenium.webdriver.remote.webelement.WebElement (session=\"b5f3043b851166d4ce5c92097ff279dc\", element=\"70bca05e-f511-48ff-91e5-8b8d6907b15e\")>, <selenium.webdriver.remote.webelement.WebElement (session=\"b5f3043b851166d4ce5c92097ff279dc\", element=\"9e3f3fda-1a7e-4019-b4e6-e37749d2ec37\")>, <selenium.webdriver.remote.webelement.WebElement (session=\"b5f3043b851166d4ce5c92097ff279dc\", element=\"8f95ed09-6b4a-49d0-9c0c-81d155af9da1\")>, <selenium.webdriver.remote.webelement.WebElement (session=\"b5f3043b851166d4ce5c92097ff279dc\", element=\"cc7c4d24-2c15-45e3-a6c5-3124728e46c6\")>, <selenium.webdriver.remote.webelement.WebElement (session=\"b5f3043b851166d4ce5c92097ff279dc\", element=\"0df64d48-a047-4893-8632-792b2ada2769\")>, <selenium.webdriver.remote.webelement.WebElement (session=\"b5f3043b851166d4ce5c92097ff279dc\", element=\"98d6c9d5-b204-4a1f-96e1-7c1337d0afab\")>, <selenium.webdriver.remote.webelement.WebElement (session=\"b5f3043b851166d4ce5c92097ff279dc\", element=\"f8357faa-ecf9-4cb6-88a8-ec1f91c7900c\")>, <selenium.webdriver.remote.webelement.WebElement (session=\"b5f3043b851166d4ce5c92097ff279dc\", element=\"87b7ac3d-af65-4c0f-9c7f-73efd9f24b6b\")>, <selenium.webdriver.remote.webelement.WebElement (session=\"b5f3043b851166d4ce5c92097ff279dc\", element=\"6b9a82d7-bf29-429b-8a26-ec2d32c41f79\")>, <selenium.webdriver.remote.webelement.WebElement (session=\"b5f3043b851166d4ce5c92097ff279dc\", element=\"5c149dd1-7844-4ff9-ab24-6e15f1228057\")>, <selenium.webdriver.remote.webelement.WebElement (session=\"b5f3043b851166d4ce5c92097ff279dc\", element=\"b86e39e8-f4df-45f4-9d4f-dbb3d937d9c8\")>, <selenium.webdriver.remote.webelement.WebElement (session=\"b5f3043b851166d4ce5c92097ff279dc\", element=\"b6b4c547-0eb0-41f7-a857-b5dc0a06ebb6\")>, <selenium.webdriver.remote.webelement.WebElement (session=\"b5f3043b851166d4ce5c92097ff279dc\", element=\"7284fa9e-06c6-4bfc-9129-fc8c3b363282\")>, <selenium.webdriver.remote.webelement.WebElement (session=\"b5f3043b851166d4ce5c92097ff279dc\", element=\"d3dd932c-94fd-4aa7-8f4c-0a9fe80fccc8\")>, <selenium.webdriver.remote.webelement.WebElement (session=\"b5f3043b851166d4ce5c92097ff279dc\", element=\"38001f83-1499-4bf2-883b-aaec53c569af\")>, <selenium.webdriver.remote.webelement.WebElement (session=\"b5f3043b851166d4ce5c92097ff279dc\", element=\"631ad4e9-a369-4599-8763-3adb2411b3e0\")>, <selenium.webdriver.remote.webelement.WebElement (session=\"b5f3043b851166d4ce5c92097ff279dc\", element=\"32074065-5a2b-4f49-857f-f5357de3953b\")>, <selenium.webdriver.remote.webelement.WebElement (session=\"b5f3043b851166d4ce5c92097ff279dc\", element=\"b5463c61-3977-410f-9f1f-f256a0a576ae\")>, <selenium.webdriver.remote.webelement.WebElement (session=\"b5f3043b851166d4ce5c92097ff279dc\", element=\"97321085-bd96-457e-bb83-044a8d458c20\")>, <selenium.webdriver.remote.webelement.WebElement (session=\"b5f3043b851166d4ce5c92097ff279dc\", element=\"10154e4b-2baf-41ef-b268-21839e3e3994\")>, <selenium.webdriver.remote.webelement.WebElement (session=\"b5f3043b851166d4ce5c92097ff279dc\", element=\"32b0dd22-4087-43e7-8bee-1fe9f5bb9bde\")>, <selenium.webdriver.remote.webelement.WebElement (session=\"b5f3043b851166d4ce5c92097ff279dc\", element=\"4e8ac3bd-0ae5-46d7-9c28-4c617e2f9825\")>, <selenium.webdriver.remote.webelement.WebElement (session=\"b5f3043b851166d4ce5c92097ff279dc\", element=\"bb4ea038-22e0-44a9-8284-938f423ee38b\")>, <selenium.webdriver.remote.webelement.WebElement (session=\"b5f3043b851166d4ce5c92097ff279dc\", element=\"62d7c0f8-daa7-473e-92fc-ea2c868ae0c0\")>, <selenium.webdriver.remote.webelement.WebElement (session=\"b5f3043b851166d4ce5c92097ff279dc\", element=\"e89500fc-ad38-4f97-9650-088920d1ded5\")>, <selenium.webdriver.remote.webelement.WebElement (session=\"b5f3043b851166d4ce5c92097ff279dc\", element=\"38cafc0c-e934-4e20-a852-50218e2eed72\")>, <selenium.webdriver.remote.webelement.WebElement (session=\"b5f3043b851166d4ce5c92097ff279dc\", element=\"1ead8bcb-7630-4faa-89ca-b9ef95a0d634\")>, <selenium.webdriver.remote.webelement.WebElement (session=\"b5f3043b851166d4ce5c92097ff279dc\", element=\"31da5675-c1b3-4d4f-adca-e08364da64eb\")>, <selenium.webdriver.remote.webelement.WebElement (session=\"b5f3043b851166d4ce5c92097ff279dc\", element=\"7516802d-fd7a-4c58-8fbc-0757de8de1d0\")>, <selenium.webdriver.remote.webelement.WebElement (session=\"b5f3043b851166d4ce5c92097ff279dc\", element=\"0bf2c09f-f11d-4f81-8da8-16e81407305b\")>, <selenium.webdriver.remote.webelement.WebElement (session=\"b5f3043b851166d4ce5c92097ff279dc\", element=\"b6e1d454-aa07-4f02-b47f-5984c8b7cc8d\")>, <selenium.webdriver.remote.webelement.WebElement (session=\"b5f3043b851166d4ce5c92097ff279dc\", element=\"925ed1d6-b498-406e-bb94-7c0112e7e629\")>, <selenium.webdriver.remote.webelement.WebElement (session=\"b5f3043b851166d4ce5c92097ff279dc\", element=\"a2cc538b-f32d-4b3a-b082-6b05de6abeac\")>, <selenium.webdriver.remote.webelement.WebElement (session=\"b5f3043b851166d4ce5c92097ff279dc\", element=\"0377b7b5-23d2-4ee4-8d18-c3643e54f5fd\")>, <selenium.webdriver.remote.webelement.WebElement (session=\"b5f3043b851166d4ce5c92097ff279dc\", element=\"e98c0edd-3145-402d-983d-99715cec2f57\")>, <selenium.webdriver.remote.webelement.WebElement (session=\"b5f3043b851166d4ce5c92097ff279dc\", element=\"d1402a46-c358-41a5-bf1f-57c20f11c5c1\")>, <selenium.webdriver.remote.webelement.WebElement (session=\"b5f3043b851166d4ce5c92097ff279dc\", element=\"be1153e5-540d-46bc-903a-925ed899c443\")>, <selenium.webdriver.remote.webelement.WebElement (session=\"b5f3043b851166d4ce5c92097ff279dc\", element=\"9db73f48-a323-4403-83f7-49d19e0a51a5\")>, <selenium.webdriver.remote.webelement.WebElement (session=\"b5f3043b851166d4ce5c92097ff279dc\", element=\"8c72b385-15a1-448e-b1aa-a17306eb8194\")>, <selenium.webdriver.remote.webelement.WebElement (session=\"b5f3043b851166d4ce5c92097ff279dc\", element=\"3f8a82bf-87a5-4bec-99b5-d27869fb4a10\")>, <selenium.webdriver.remote.webelement.WebElement (session=\"b5f3043b851166d4ce5c92097ff279dc\", element=\"38e697f3-ac47-4e04-b4b0-47fdb0154952\")>, <selenium.webdriver.remote.webelement.WebElement (session=\"b5f3043b851166d4ce5c92097ff279dc\", element=\"5627c513-7e0a-472a-aade-7738e7606cc0\")>, <selenium.webdriver.remote.webelement.WebElement (session=\"b5f3043b851166d4ce5c92097ff279dc\", element=\"fe2e0e86-7867-466d-a896-b648ea2c629b\")>, <selenium.webdriver.remote.webelement.WebElement (session=\"b5f3043b851166d4ce5c92097ff279dc\", element=\"c6a6f891-f239-4a90-a361-ac2e56154d08\")>, <selenium.webdriver.remote.webelement.WebElement (session=\"b5f3043b851166d4ce5c92097ff279dc\", element=\"964eded1-3d9d-46bf-9d5f-20cfc23f625f\")>, <selenium.webdriver.remote.webelement.WebElement (session=\"b5f3043b851166d4ce5c92097ff279dc\", element=\"6e937a2a-cc20-4c28-af7a-f27017123650\")>, <selenium.webdriver.remote.webelement.WebElement (session=\"b5f3043b851166d4ce5c92097ff279dc\", element=\"af3d672b-3e68-46ae-8c09-f1c5114a1b24\")>, <selenium.webdriver.remote.webelement.WebElement (session=\"b5f3043b851166d4ce5c92097ff279dc\", element=\"78435929-3e92-4e0d-9011-3f97be375d0b\")>, <selenium.webdriver.remote.webelement.WebElement (session=\"b5f3043b851166d4ce5c92097ff279dc\", element=\"d7693cc1-c2be-44b0-8ae6-7ce840d36c92\")>, <selenium.webdriver.remote.webelement.WebElement (session=\"b5f3043b851166d4ce5c92097ff279dc\", element=\"414b2765-9d83-45eb-a81c-2028b250132d\")>, <selenium.webdriver.remote.webelement.WebElement (session=\"b5f3043b851166d4ce5c92097ff279dc\", element=\"85154e50-d56f-4251-b46c-10d3e579adb3\")>, <selenium.webdriver.remote.webelement.WebElement (session=\"b5f3043b851166d4ce5c92097ff279dc\", element=\"768538b4-b7f2-4b11-a1aa-5fe98ec44042\")>, <selenium.webdriver.remote.webelement.WebElement (session=\"b5f3043b851166d4ce5c92097ff279dc\", element=\"00adc3d4-e103-4945-8115-6c2a811b7950\")>, <selenium.webdriver.remote.webelement.WebElement (session=\"b5f3043b851166d4ce5c92097ff279dc\", element=\"fd1b3af1-143d-46d8-95a9-a4e124675b33\")>, <selenium.webdriver.remote.webelement.WebElement (session=\"b5f3043b851166d4ce5c92097ff279dc\", element=\"bfecb7dc-cdd1-469b-bb91-827869a59032\")>]\n"
     ]
    }
   ],
   "source": [
    "#Scraping image URLs\n",
    "images= driver.find_elements_by_xpath(\"//img[@class='s-image']\")\n",
    "print(images)"
   ]
  },
  {
   "cell_type": "code",
   "execution_count": 7,
   "metadata": {},
   "outputs": [
    {
     "data": {
      "text/plain": [
       "60"
      ]
     },
     "execution_count": 7,
     "metadata": {},
     "output_type": "execute_result"
    }
   ],
   "source": [
    "urls=[]\n",
    "for image in images:\n",
    "    source= image.get_attribute('src')\n",
    "    urls.append(source)\n",
    "    \n",
    "len(urls)"
   ]
  },
  {
   "cell_type": "code",
   "execution_count": 9,
   "metadata": {},
   "outputs": [
    {
     "name": "stdout",
     "output_type": "stream",
     "text": [
      "Downloading 1 of 60 images\n",
      "Downloading 2 of 60 images\n",
      "Downloading 3 of 60 images\n",
      "Downloading 4 of 60 images\n",
      "Downloading 5 of 60 images\n",
      "Downloading 6 of 60 images\n",
      "Downloading 7 of 60 images\n",
      "Downloading 8 of 60 images\n",
      "Downloading 9 of 60 images\n",
      "Downloading 10 of 60 images\n",
      "Downloading 11 of 60 images\n",
      "Downloading 12 of 60 images\n",
      "Downloading 13 of 60 images\n",
      "Downloading 14 of 60 images\n",
      "Downloading 15 of 60 images\n",
      "Downloading 16 of 60 images\n",
      "Downloading 17 of 60 images\n",
      "Downloading 18 of 60 images\n",
      "Downloading 19 of 60 images\n",
      "Downloading 20 of 60 images\n",
      "Downloading 21 of 60 images\n",
      "Downloading 22 of 60 images\n",
      "Downloading 23 of 60 images\n",
      "Downloading 24 of 60 images\n",
      "Downloading 25 of 60 images\n",
      "Downloading 26 of 60 images\n",
      "Downloading 27 of 60 images\n",
      "Downloading 28 of 60 images\n",
      "Downloading 29 of 60 images\n",
      "Downloading 30 of 60 images\n",
      "Downloading 31 of 60 images\n",
      "Downloading 32 of 60 images\n",
      "Downloading 33 of 60 images\n",
      "Downloading 34 of 60 images\n",
      "Downloading 35 of 60 images\n",
      "Downloading 36 of 60 images\n",
      "Downloading 37 of 60 images\n",
      "Downloading 38 of 60 images\n",
      "Downloading 39 of 60 images\n",
      "Downloading 40 of 60 images\n",
      "Downloading 41 of 60 images\n",
      "Downloading 42 of 60 images\n",
      "Downloading 43 of 60 images\n",
      "Downloading 44 of 60 images\n",
      "Downloading 45 of 60 images\n",
      "Downloading 46 of 60 images\n",
      "Downloading 47 of 60 images\n",
      "Downloading 48 of 60 images\n",
      "Downloading 49 of 60 images\n",
      "Downloading 50 of 60 images\n",
      "Downloading 51 of 60 images\n",
      "Downloading 52 of 60 images\n",
      "Downloading 53 of 60 images\n",
      "Downloading 54 of 60 images\n",
      "Downloading 55 of 60 images\n",
      "Downloading 56 of 60 images\n",
      "Downloading 57 of 60 images\n",
      "Downloading 58 of 60 images\n",
      "Downloading 59 of 60 images\n",
      "Downloading 60 of 60 images\n"
     ]
    }
   ],
   "source": [
    "for index, link in enumerate(urls):\n",
    "    print(\"Downloading {0} of {1} images\".format(index+1,len(urls)))\n",
    "    response= requests.get('https://www.amazon.in/s?k=men%27s+shirt&ref=nb_sb_noss')\n",
    "    with open('shirts/img_{0}.jpg'.format(index),\"wb\") as file:\n",
    "        file.write(response.content)"
   ]
  },
  {
   "cell_type": "code",
   "execution_count": null,
   "metadata": {},
   "outputs": [],
   "source": []
  }
 ],
 "metadata": {
  "kernelspec": {
   "display_name": "Python 3",
   "language": "python",
   "name": "python3"
  },
  "language_info": {
   "codemirror_mode": {
    "name": "ipython",
    "version": 3
   },
   "file_extension": ".py",
   "mimetype": "text/x-python",
   "name": "python",
   "nbconvert_exporter": "python",
   "pygments_lexer": "ipython3",
   "version": "3.6.10"
  }
 },
 "nbformat": 4,
 "nbformat_minor": 4
}
