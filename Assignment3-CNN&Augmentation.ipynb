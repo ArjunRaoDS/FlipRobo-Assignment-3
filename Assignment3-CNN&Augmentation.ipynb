{
 "cells": [
  {
   "cell_type": "code",
   "execution_count": 1,
   "metadata": {},
   "outputs": [
    {
     "name": "stderr",
     "output_type": "stream",
     "text": [
      "Using TensorFlow backend.\n"
     ]
    }
   ],
   "source": [
    "from keras.models import Sequential\n",
    "from keras.layers import Conv2D\n",
    "from keras.layers import MaxPooling2D\n",
    "from keras.layers import Flatten\n",
    "from keras.layers import Dense, Dropout\n",
    "from keras.optimizers import SGD"
   ]
  },
  {
   "cell_type": "code",
   "execution_count": 2,
   "metadata": {},
   "outputs": [
    {
     "name": "stdout",
     "output_type": "stream",
     "text": [
      "Model: \"sequential_1\"\n",
      "_________________________________________________________________\n",
      "Layer (type)                 Output Shape              Param #   \n",
      "=================================================================\n",
      "conv2d_1 (Conv2D)            (None, 62, 62, 32)        896       \n",
      "_________________________________________________________________\n",
      "conv2d_2 (Conv2D)            (None, 60, 60, 32)        9248      \n",
      "_________________________________________________________________\n",
      "max_pooling2d_1 (MaxPooling2 (None, 30, 30, 32)        0         \n",
      "_________________________________________________________________\n",
      "dropout_1 (Dropout)          (None, 30, 30, 32)        0         \n",
      "_________________________________________________________________\n",
      "flatten_1 (Flatten)          (None, 28800)             0         \n",
      "_________________________________________________________________\n",
      "dense_1 (Dense)              (None, 128)               3686528   \n",
      "_________________________________________________________________\n",
      "dense_2 (Dense)              (None, 3)                 387       \n",
      "=================================================================\n",
      "Total params: 3,697,059\n",
      "Trainable params: 3,697,059\n",
      "Non-trainable params: 0\n",
      "_________________________________________________________________\n",
      "None\n"
     ]
    }
   ],
   "source": [
    "#Initialising CNN\n",
    "Model=Sequential()\n",
    "#1st layer\n",
    "Model.add(Conv2D(filters=32,kernel_size=(3,3),input_shape=(64,64,3),activation='relu'))\n",
    "\n",
    "#2nd layer\n",
    "Model.add(Conv2D(filters=32,kernel_size=(3,3),activation='relu'))\n",
    "Model.add(MaxPooling2D(pool_size=(2,2)))\n",
    "Model.add(Dropout(0.25))\n",
    "#Flattening layer\n",
    "Model.add(Flatten())\n",
    "#Full connection layer\n",
    "Model.add(Dense(units=128,activation='relu'))\n",
    "Model.add(Dense(units=3,activation='softmax'))\n",
    "#Compliing the CNN\n",
    "Model.compile(optimizer='adam',loss='categorical_crossentropy', metrics=['accuracy'])\n",
    "print(Model.summary())"
   ]
  },
  {
   "cell_type": "code",
   "execution_count": 3,
   "metadata": {},
   "outputs": [
    {
     "name": "stdout",
     "output_type": "stream",
     "text": [
      "Requirement already satisfied: scikit-image in c:\\users\\arjun rao\\anaconda3\\envs\\tensorflow_environment\\lib\\site-packages (0.17.2)\n",
      "Requirement already satisfied: matplotlib!=3.0.0,>=2.0.0 in c:\\users\\arjun rao\\anaconda3\\envs\\tensorflow_environment\\lib\\site-packages (from scikit-image) (3.2.2)\n",
      "Requirement already satisfied: pillow!=7.1.0,!=7.1.1,>=4.3.0 in c:\\users\\arjun rao\\anaconda3\\envs\\tensorflow_environment\\lib\\site-packages (from scikit-image) (7.1.2)\n",
      "Requirement already satisfied: tifffile>=2019.7.26 in c:\\users\\arjun rao\\anaconda3\\envs\\tensorflow_environment\\lib\\site-packages (from scikit-image) (2020.7.4)\n",
      "Requirement already satisfied: networkx>=2.0 in c:\\users\\arjun rao\\anaconda3\\envs\\tensorflow_environment\\lib\\site-packages (from scikit-image) (2.4)\n",
      "Requirement already satisfied: PyWavelets>=1.1.1 in c:\\users\\arjun rao\\anaconda3\\envs\\tensorflow_environment\\lib\\site-packages (from scikit-image) (1.1.1)\n",
      "Requirement already satisfied: scipy>=1.0.1 in c:\\users\\arjun rao\\anaconda3\\envs\\tensorflow_environment\\lib\\site-packages (from scikit-image) (1.5.0)\n",
      "Requirement already satisfied: imageio>=2.3.0 in c:\\users\\arjun rao\\anaconda3\\envs\\tensorflow_environment\\lib\\site-packages (from scikit-image) (2.9.0)\n",
      "Requirement already satisfied: numpy>=1.15.1 in c:\\users\\arjun rao\\anaconda3\\envs\\tensorflow_environment\\lib\\site-packages (from scikit-image) (1.18.5)\n",
      "Requirement already satisfied: pyparsing!=2.0.4,!=2.1.2,!=2.1.6,>=2.0.1 in c:\\users\\arjun rao\\anaconda3\\envs\\tensorflow_environment\\lib\\site-packages (from matplotlib!=3.0.0,>=2.0.0->scikit-image) (2.4.7)\n",
      "Requirement already satisfied: cycler>=0.10 in c:\\users\\arjun rao\\anaconda3\\envs\\tensorflow_environment\\lib\\site-packages (from matplotlib!=3.0.0,>=2.0.0->scikit-image) (0.10.0)\n",
      "Requirement already satisfied: python-dateutil>=2.1 in c:\\users\\arjun rao\\anaconda3\\envs\\tensorflow_environment\\lib\\site-packages (from matplotlib!=3.0.0,>=2.0.0->scikit-image) (2.8.1)\n",
      "Requirement already satisfied: kiwisolver>=1.0.1 in c:\\users\\arjun rao\\anaconda3\\envs\\tensorflow_environment\\lib\\site-packages (from matplotlib!=3.0.0,>=2.0.0->scikit-image) (1.2.0)\n",
      "Requirement already satisfied: decorator>=4.3.0 in c:\\users\\arjun rao\\anaconda3\\envs\\tensorflow_environment\\lib\\site-packages (from networkx>=2.0->scikit-image) (4.4.2)\n",
      "Requirement already satisfied: six in c:\\users\\arjun rao\\anaconda3\\envs\\tensorflow_environment\\lib\\site-packages (from cycler>=0.10->matplotlib!=3.0.0,>=2.0.0->scikit-image) (1.15.0)\n"
     ]
    }
   ],
   "source": [
    "!pip install scikit-image"
   ]
  },
  {
   "cell_type": "code",
   "execution_count": 4,
   "metadata": {},
   "outputs": [
    {
     "name": "stdout",
     "output_type": "stream",
     "text": [
      "Requirement already satisfied: matplotlib in c:\\users\\arjun rao\\anaconda3\\envs\\tensorflow_environment\\lib\\site-packages (3.2.2)\n",
      "Requirement already satisfied: pyparsing!=2.0.4,!=2.1.2,!=2.1.6,>=2.0.1 in c:\\users\\arjun rao\\anaconda3\\envs\\tensorflow_environment\\lib\\site-packages (from matplotlib) (2.4.7)\n",
      "Requirement already satisfied: python-dateutil>=2.1 in c:\\users\\arjun rao\\anaconda3\\envs\\tensorflow_environment\\lib\\site-packages (from matplotlib) (2.8.1)\n",
      "Requirement already satisfied: kiwisolver>=1.0.1 in c:\\users\\arjun rao\\anaconda3\\envs\\tensorflow_environment\\lib\\site-packages (from matplotlib) (1.2.0)\n",
      "Requirement already satisfied: cycler>=0.10 in c:\\users\\arjun rao\\anaconda3\\envs\\tensorflow_environment\\lib\\site-packages (from matplotlib) (0.10.0)\n",
      "Requirement already satisfied: numpy>=1.11 in c:\\users\\arjun rao\\anaconda3\\envs\\tensorflow_environment\\lib\\site-packages (from matplotlib) (1.18.5)\n",
      "Requirement already satisfied: six>=1.5 in c:\\users\\arjun rao\\anaconda3\\envs\\tensorflow_environment\\lib\\site-packages (from python-dateutil>=2.1->matplotlib) (1.15.0)\n"
     ]
    }
   ],
   "source": [
    "!pip install matplotlib"
   ]
  },
  {
   "cell_type": "markdown",
   "metadata": {},
   "source": [
    "**Data Augmentation**"
   ]
  },
  {
   "cell_type": "code",
   "execution_count": 5,
   "metadata": {},
   "outputs": [],
   "source": [
    "import cv2\n",
    "import numpy as np\n",
    "from skimage import io \n",
    "from skimage.transform import rotate, AffineTransform\n",
    "import matplotlib.pyplot as plt\n",
    "import random\n",
    "from skimage import img_as_ubyte\n",
    "import os"
   ]
  },
  {
   "cell_type": "code",
   "execution_count": 6,
   "metadata": {},
   "outputs": [],
   "source": [
    "def anticlockwise_rotation(image):\n",
    "    angle= random.randint(0,180)\n",
    "    return rotate(image, angle)\n",
    "\n",
    "def clockwise_rotation(image):\n",
    "    angle= random.randint(0,180)\n",
    "    return rotate(image, -angle)\n",
    "\n",
    "def h_flip(image):\n",
    "    return  np.fliplr(image)\n",
    "\n",
    "def v_flip(image):\n",
    "    return np.flipud(image)\n",
    "\n",
    "def increase_brightness(img, value=30):\n",
    "    hsv= cv2.cvtColor(img,cv2.COLOR_BGR2HSV)\n",
    "    h,s,v = cv2.split(hsv)\n",
    "    \n",
    "    lim = 255 - value\n",
    "    v[v > lim] = 255\n",
    "    v[v <= lim] += value\n",
    "\n",
    "    final_hsv = cv2.merge((h, s, v))\n",
    "    img = cv2.cvtColor(final_hsv, cv2.COLOR_HSV2BGR)\n",
    "    return img\n",
    "\n",
    "def unsharp_mask(image, kernel_size=(5, 5), sigma=1.0, amount=1.0, threshold=0):\n",
    "    \"\"\"Return a sharpened version of the image, using an unsharp mask.\"\"\"\n",
    "    blurred = cv2.GaussianBlur(image, kernel_size, sigma)\n",
    "    sharpened = float(amount + 1) * image - float(amount) * blurred\n",
    "    sharpened = np.maximum(sharpened, np.zeros(sharpened.shape))\n",
    "    sharpened = np.minimum(sharpened, 255 * np.ones(sharpened.shape))\n",
    "    sharpened = sharpened.round().astype(np.uint8)\n",
    "    if threshold > 0:\n",
    "        low_contrast_mask = np.absolute(image - blurred) < threshold\n",
    "        np.copyto(sharpened, image, where=low_contrast_mask)\n",
    "    return sharpened"
   ]
  },
  {
   "cell_type": "code",
   "execution_count": 7,
   "metadata": {},
   "outputs": [],
   "source": [
    "transformations = {'rotate anticlockwise': anticlockwise_rotation,\n",
    "                      'rotate clockwise': clockwise_rotation,\n",
    "                      'horizontal flip': h_flip, \n",
    "                      'vertical flip': v_flip,\n",
    "                      'increase brightness': increase_brightness,\n",
    "                      'sharpening image': unsharp_mask\n",
    "                 }                #use dictionary to store names of functions \n",
    "\n",
    "images_path=\"C:/Users/Arjun Rao/Desktop/Training/S\" #path to original images\n",
    "augmented_path=\"C:/Users/Arjun Rao/Desktop/Training/augmented_images_saree\" # path to store aumented images\n",
    "images=[] # to store paths of images from folder\n",
    "\n",
    "for im in os.listdir(images_path):  # read image name from folder and append its path into \"images\" array     \n",
    "    images.append(os.path.join(images_path,im))\n",
    "\n",
    "images_to_generate=200  #you can change this value according to your requirement\n",
    "i=1                        # variable to iterate till images_to_generate\n",
    "\n",
    "while i<=images_to_generate:    \n",
    "    image=random.choice(images)\n",
    "    original_image = io.imread(image)\n",
    "    transformed_image=None\n",
    "#     print(i)\n",
    "    n = 0       #variable to iterate till number of transformation to apply\n",
    "    transformation_count = random.randint(1, len(transformations)) #choose random number of transformation to apply on the image\n",
    "    \n",
    "    while n <= transformation_count:\n",
    "        key = random.choice(list(transformations)) #randomly choosing method to call\n",
    "        transformed_image = transformations[key](original_image)\n",
    "        n = n + 1\n",
    "        \n",
    "    new_image_path= \"%s/augmented_image_%s.jpg\" %(augmented_path, i)\n",
    "    transformed_image = img_as_ubyte(transformed_image)  #Convert an image to unsigned byte format, with values in [0, 255].\n",
    "    transformed_image=cv2.cvtColor(transformed_image, cv2.COLOR_BGR2RGB) #convert image to RGB before saving it\n",
    "    cv2.imwrite(new_image_path, transformed_image) # save transformed image to path\n",
    "    i =i+1\n"
   ]
  },
  {
   "cell_type": "code",
   "execution_count": 8,
   "metadata": {},
   "outputs": [],
   "source": [
    "transformations = {'rotate anticlockwise': anticlockwise_rotation,\n",
    "                      'rotate clockwise': clockwise_rotation,\n",
    "                      'horizontal flip': h_flip, \n",
    "                      'vertical flip': v_flip,\n",
    "                      'increase brightness': increase_brightness,\n",
    "                      'sharpening image': unsharp_mask\n",
    "                 }                #use dictionary to store names of functions \n",
    "\n",
    "images_path=\"C:/Users/Arjun Rao/Desktop/Training/Sh\" #path to original images\n",
    "augmented_path=\"C:/Users/Arjun Rao/Desktop/Training/augmented_images_shirt\" # path to store aumented images\n",
    "images=[] # to store paths of images from folder\n",
    "\n",
    "for im in os.listdir(images_path):  # read image name from folder and append its path into \"images\" array     \n",
    "    images.append(os.path.join(images_path,im))\n",
    "\n",
    "images_to_generate=200  #you can change this value according to your requirement\n",
    "i=1                        # variable to iterate till images_to_generate\n",
    "\n",
    "while i<=images_to_generate:    \n",
    "    image=random.choice(images)\n",
    "    original_image = io.imread(image)\n",
    "    transformed_image=None\n",
    "#     print(i)\n",
    "    n = 0       #variable to iterate till number of transformation to apply\n",
    "    transformation_count = random.randint(1, len(transformations)) #choose random number of transformation to apply on the image\n",
    "    \n",
    "    while n <= transformation_count:\n",
    "        key = random.choice(list(transformations)) #randomly choosing method to call\n",
    "        transformed_image = transformations[key](original_image)\n",
    "        n = n + 1\n",
    "        \n",
    "    new_image_path= \"%s/augmented_image_%s.jpg\" %(augmented_path, i)\n",
    "    transformed_image = img_as_ubyte(transformed_image)  #Convert an image to unsigned byte format, with values in [0, 255].\n",
    "    transformed_image=cv2.cvtColor(transformed_image, cv2.COLOR_BGR2RGB) #convert image to RGB before saving it\n",
    "    cv2.imwrite(new_image_path, transformed_image) # save transformed image to path\n",
    "    i =i+1\n"
   ]
  },
  {
   "cell_type": "code",
   "execution_count": 9,
   "metadata": {},
   "outputs": [],
   "source": [
    "transformations = {'rotate anticlockwise': anticlockwise_rotation,\n",
    "                      'rotate clockwise': clockwise_rotation,\n",
    "                      'horizontal flip': h_flip, \n",
    "                      'vertical flip': v_flip,\n",
    "                      'increase brightness': increase_brightness,\n",
    "                      'sharpening image': unsharp_mask\n",
    "                 }                #use dictionary to store names of functions \n",
    "\n",
    "images_path=\"C:/Users/Arjun Rao/Desktop/Training/T\" #path to original images\n",
    "augmented_path=\"C:/Users/Arjun Rao/Desktop/Training/augmented_images_tshirt\" # path to store aumented images\n",
    "images=[] # to store paths of images from folder\n",
    "\n",
    "for im in os.listdir(images_path):  # read image name from folder and append its path into \"images\" array     \n",
    "    images.append(os.path.join(images_path,im))\n",
    "\n",
    "images_to_generate=200  #you can change this value according to your requirement\n",
    "i=1                        # variable to iterate till images_to_generate\n",
    "\n",
    "while i<=images_to_generate:    \n",
    "    image=random.choice(images)\n",
    "    original_image = io.imread(image)\n",
    "    transformed_image=None\n",
    "#     print(i)\n",
    "    n = 0       #variable to iterate till number of transformation to apply\n",
    "    transformation_count = random.randint(1, len(transformations)) #choose random number of transformation to apply on the image\n",
    "    \n",
    "    while n <= transformation_count:\n",
    "        key = random.choice(list(transformations)) #randomly choosing method to call\n",
    "        transformed_image = transformations[key](original_image)\n",
    "        n = n + 1\n",
    "        \n",
    "    new_image_path= \"%s/augmented_image_%s.jpg\" %(augmented_path, i)\n",
    "    transformed_image = img_as_ubyte(transformed_image)  #Convert an image to unsigned byte format, with values in [0, 255].\n",
    "    transformed_image=cv2.cvtColor(transformed_image, cv2.COLOR_BGR2RGB) #convert image to RGB before saving it\n",
    "    cv2.imwrite(new_image_path, transformed_image) # save transformed image to path\n",
    "    i =i+1\n"
   ]
  },
  {
   "cell_type": "code",
   "execution_count": 10,
   "metadata": {},
   "outputs": [
    {
     "name": "stdout",
     "output_type": "stream",
     "text": [
      "Found 900 images belonging to 3 classes.\n",
      "Found 75 images belonging to 3 classes.\n"
     ]
    }
   ],
   "source": [
    "from keras.preprocessing.image import ImageDataGenerator\n",
    "\n",
    "train_gen=ImageDataGenerator(rescale=1./255,shear_range=0.2,zoom_range=0.2,horizontal_flip=True)\n",
    "training=train_gen.flow_from_directory('C:/Users/Arjun Rao/Desktop/Training',\n",
    "                                       target_size=(64,64),batch_size=20,class_mode='categorical')\n",
    "\n",
    "test_gen=ImageDataGenerator(rescale=1./255,shear_range=0.2,zoom_range=0.2,horizontal_flip=True)\n",
    "test=test_gen.flow_from_directory('C:/Users/Arjun Rao/Desktop/Test',\n",
    "                                  target_size=(64,64),batch_size=5,class_mode='categorical')"
   ]
  },
  {
   "cell_type": "code",
   "execution_count": 11,
   "metadata": {},
   "outputs": [
    {
     "name": "stdout",
     "output_type": "stream",
     "text": [
      "Epoch 1/8\n",
      "150/150 [==============================] - 256s 2s/step - loss: 0.8695 - accuracy: 0.6197 - val_loss: 0.4199 - val_accuracy: 0.7640\n",
      "Epoch 2/8\n",
      "150/150 [==============================] - 208s 1s/step - loss: 0.4605 - accuracy: 0.8033 - val_loss: 0.2930 - val_accuracy: 0.8600\n",
      "Epoch 3/8\n",
      "150/150 [==============================] - 206s 1s/step - loss: 0.3057 - accuracy: 0.8773 - val_loss: 0.1373 - val_accuracy: 0.7920\n",
      "Epoch 4/8\n",
      "150/150 [==============================] - 203s 1s/step - loss: 0.2487 - accuracy: 0.9007 - val_loss: 0.3633 - val_accuracy: 0.8480\n",
      "Epoch 5/8\n",
      "150/150 [==============================] - 203s 1s/step - loss: 0.1953 - accuracy: 0.9250 - val_loss: 0.0019 - val_accuracy: 0.8560\n",
      "Epoch 6/8\n",
      "150/150 [==============================] - 213s 1s/step - loss: 0.1538 - accuracy: 0.9437 - val_loss: 0.4849 - val_accuracy: 0.8240\n",
      "Epoch 7/8\n",
      "150/150 [==============================] - 209s 1s/step - loss: 0.1118 - accuracy: 0.9587 - val_loss: 0.0310 - val_accuracy: 0.8560\n",
      "Epoch 8/8\n",
      "150/150 [==============================] - 199s 1s/step - loss: 0.1006 - accuracy: 0.9637 - val_loss: 0.0588 - val_accuracy: 0.9000\n"
     ]
    }
   ],
   "source": [
    "History=Model.fit_generator(training,steps_per_epoch=150,epochs=8,validation_data=test,validation_steps=50)"
   ]
  },
  {
   "cell_type": "markdown",
   "metadata": {},
   "source": [
    "**Loss plot**"
   ]
  },
  {
   "cell_type": "code",
   "execution_count": 12,
   "metadata": {},
   "outputs": [
    {
     "data": {
      "image/png": "[encoded data removed]",
      "text/plain": [
       "<Figure size 432x288 with 1 Axes>"
      ]
     },
     "metadata": {
      "needs_background": "light"
     },
     "output_type": "display_data"
    }
   ],
   "source": [
    "import matplotlib.pyplot as plt\n",
    "\n",
    "history_dict=History.history\n",
    "loss_values=history_dict['loss']\n",
    "val_loss_values=history_dict['val_loss']\n",
    "epochs=range(1,len(loss_values)+1)\n",
    "line1=plt.plot(epochs,val_loss_values, label='Validation/Test loss')\n",
    "line2=plt.plot(epochs,loss_values,label='Trainig Loss')\n",
    "plt.setp(line1,linewidth=2.0,marker='+',markersize=10.0)\n",
    "plt.setp(line1,linewidth=2.0,marker='4',markersize=10.0)\n",
    "plt.xlabel('Epochs')\n",
    "plt.ylabel('Loss')\n",
    "plt.grid(True)\n",
    "plt.legend()\n",
    "plt.show()"
   ]
  },
  {
   "cell_type": "markdown",
   "metadata": {},
   "source": [
    "**Accuracy plot**"
   ]
  },
  {
   "cell_type": "code",
   "execution_count": 13,
   "metadata": {},
   "outputs": [
    {
     "data": {
      "image/png": "[encoded data removed]",
      "text/plain": [
       "<Figure size 432x288 with 1 Axes>"
      ]
     },
     "metadata": {
      "needs_background": "light"
     },
     "output_type": "display_data"
    }
   ],
   "source": [
    "acc_values=history_dict['accuracy']\n",
    "val_acc_values=history_dict['val_accuracy']\n",
    "epochs=range(1,len(loss_values)+1)\n",
    "line1=plt.plot(epochs,val_acc_values, label='Validation/Test accuracy')\n",
    "line2=plt.plot(epochs,acc_values,label='Trainig accuracy')\n",
    "plt.setp(line1,linewidth=2.0,marker='+',markersize=10.0)\n",
    "plt.setp(line1,linewidth=2.0,marker='4',markersize=10.0)\n",
    "plt.xlabel('Epochs')\n",
    "plt.ylabel('Accuracy')\n",
    "plt.grid(True)\n",
    "plt.legend()\n",
    "plt.show()"
   ]
  },
  {
   "cell_type": "markdown",
   "metadata": {},
   "source": [
    "**Predictions**"
   ]
  },
  {
   "cell_type": "code",
   "execution_count": 15,
   "metadata": {},
   "outputs": [
    {
     "name": "stdout",
     "output_type": "stream",
     "text": [
      "Saree\n"
     ]
    }
   ],
   "source": [
    "import numpy as np\n",
    "from keras.preprocessing import image\n",
    "test_image=image.load_img('C:/Users/Arjun Rao/Desktop/sa.jpg',target_size=(64,64))\n",
    "test_image=image.img_to_array(test_image)\n",
    "test_image=np.expand_dims(test_image, axis=0)\n",
    "result=Model.predict(test_image)\n",
    "training.class_indices\n",
    "if result[0][0]==1:\n",
    "    prediction=\"Saree\"\n",
    "elif result[0][1]==1:\n",
    "    prediction=\"Shirt\"\n",
    "else:\n",
    "    prediction=\"T-shirt\"\n",
    "print(prediction)   "
   ]
  },
  {
   "cell_type": "code",
   "execution_count": null,
   "metadata": {},
   "outputs": [],
   "source": []
  }
 ],
 "metadata": {
  "kernelspec": {
   "display_name": "Python 3",
   "language": "python",
   "name": "python3"
  },
  "language_info": {
   "codemirror_mode": {
    "name": "ipython",
    "version": 3
   },
   "file_extension": ".py",
   "mimetype": "text/x-python",
   "name": "python",
   "nbconvert_exporter": "python",
   "pygments_lexer": "ipython3",
   "version": "3.6.10"
  }
 },
 "nbformat": 4,
 "nbformat_minor": 4
}
